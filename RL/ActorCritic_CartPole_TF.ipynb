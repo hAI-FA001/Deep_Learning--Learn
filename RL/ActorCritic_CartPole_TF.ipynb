{
  "nbformat": 4,
  "nbformat_minor": 0,
  "metadata": {
    "colab": {
      "provenance": []
    },
    "kernelspec": {
      "name": "python3",
      "display_name": "Python 3"
    },
    "language_info": {
      "name": "python"
    }
  },
  "cells": [
    {
      "cell_type": "markdown",
      "source": [
        "Actor-Critic = temporal difference learning, represents policy independent of value\n",
        "<br><br>\n",
        "Policy = actor, outputs actions given a state\n",
        "<br>\n",
        "Value = critic, evaluates"
      ],
      "metadata": {
        "id": "bT-yaC10am1Q"
      }
    },
    {
      "cell_type": "code",
      "execution_count": 2,
      "metadata": {
        "colab": {
          "base_uri": "https://localhost:8080/"
        },
        "id": "QZ7oXzGwafMw",
        "outputId": "2af8e8f2-4200-4e09-e97d-f93fa2a5f333"
      },
      "outputs": [
        {
          "output_type": "stream",
          "name": "stdout",
          "text": [
            "Requirement already satisfied: gym[classic_control] in /usr/local/lib/python3.10/dist-packages (0.25.2)\n",
            "Requirement already satisfied: numpy>=1.18.0 in /usr/local/lib/python3.10/dist-packages (from gym[classic_control]) (1.25.2)\n",
            "Requirement already satisfied: cloudpickle>=1.2.0 in /usr/local/lib/python3.10/dist-packages (from gym[classic_control]) (2.2.1)\n",
            "Requirement already satisfied: gym-notices>=0.0.4 in /usr/local/lib/python3.10/dist-packages (from gym[classic_control]) (0.0.8)\n",
            "Collecting pygame==2.1.0 (from gym[classic_control])\n",
            "  Downloading pygame-2.1.0-cp310-cp310-manylinux_2_17_x86_64.manylinux2014_x86_64.whl (18.3 MB)\n",
            "\u001b[2K     \u001b[90m━━━━━━━━━━━━━━━━━━━━━━━━━━━━━━━━━━━━━━━━\u001b[0m \u001b[32m18.3/18.3 MB\u001b[0m \u001b[31m20.0 MB/s\u001b[0m eta \u001b[36m0:00:00\u001b[0m\n",
            "\u001b[?25hInstalling collected packages: pygame\n",
            "  Attempting uninstall: pygame\n",
            "    Found existing installation: pygame 2.6.0\n",
            "    Uninstalling pygame-2.6.0:\n",
            "      Successfully uninstalled pygame-2.6.0\n",
            "Successfully installed pygame-2.1.0\n",
            "Collecting pyglet\n",
            "  Downloading pyglet-2.0.16-py3-none-any.whl (929 kB)\n",
            "\u001b[2K     \u001b[90m━━━━━━━━━━━━━━━━━━━━━━━━━━━━━━━━━━━━━━━━\u001b[0m \u001b[32m929.1/929.1 kB\u001b[0m \u001b[31m11.4 MB/s\u001b[0m eta \u001b[36m0:00:00\u001b[0m\n",
            "\u001b[?25hInstalling collected packages: pyglet\n",
            "Successfully installed pyglet-2.0.16\n"
          ]
        }
      ],
      "source": [
        "!pip install gym[classic_control]\n",
        "!pip install pyglet"
      ]
    },
    {
      "cell_type": "code",
      "source": [
        "# packages for visualization\n",
        "!sudo apt-get install -y python-opengl > /dev/null 2>&1\n",
        "!pip install git+https://github.com/tensorflow/docs > /dev/null 2>&1"
      ],
      "metadata": {
        "id": "R6hE7dUebB5i"
      },
      "execution_count": 4,
      "outputs": []
    },
    {
      "cell_type": "code",
      "source": [
        "import collections\n",
        "import gym\n",
        "import numpy as np\n",
        "import statistics\n",
        "import tensorflow as tf\n",
        "import tqdm\n",
        "\n",
        "import matplotlib.pyplot as plt\n",
        "from tensorflow.keras import layers\n",
        "\n",
        "from typing import Any, List, Sequence, Tuple"
      ],
      "metadata": {
        "colab": {
          "base_uri": "https://localhost:8080/"
        },
        "id": "BZP7Oo0abQqz",
        "outputId": "7a70733e-56b7-4b52-a301-1a147016497e"
      },
      "execution_count": 6,
      "outputs": [
        {
          "output_type": "stream",
          "name": "stderr",
          "text": [
            "/usr/local/lib/python3.10/dist-packages/ipykernel/ipkernel.py:283: DeprecationWarning: `should_run_async` will not call `transform_cell` automatically in the future. Please pass the result to `transformed_cell` argument and any exception that happen during thetransform in `preprocessing_exc_tuple` in IPython 7.17 and above.\n",
            "  and should_run_async(code)\n"
          ]
        }
      ]
    },
    {
      "cell_type": "code",
      "source": [
        "env = gym.make('CartPole-v1')"
      ],
      "metadata": {
        "colab": {
          "base_uri": "https://localhost:8080/"
        },
        "id": "qgoyzLt9bih7",
        "outputId": "e8157692-dc74-405b-c84f-32525eda09c0"
      },
      "execution_count": 7,
      "outputs": [
        {
          "output_type": "stream",
          "name": "stderr",
          "text": [
            "/usr/local/lib/python3.10/dist-packages/ipykernel/ipkernel.py:283: DeprecationWarning: `should_run_async` will not call `transform_cell` automatically in the future. Please pass the result to `transformed_cell` argument and any exception that happen during thetransform in `preprocessing_exc_tuple` in IPython 7.17 and above.\n",
            "  and should_run_async(code)\n",
            "/usr/local/lib/python3.10/dist-packages/gym/core.py:317: DeprecationWarning: \u001b[33mWARN: Initializing wrapper in old step API which returns one bool instead of two. It is recommended to set `new_step_api=True` to use new step API. This will be the default behaviour in future.\u001b[0m\n",
            "  deprecation(\n",
            "/usr/local/lib/python3.10/dist-packages/gym/wrappers/step_api_compatibility.py:39: DeprecationWarning: \u001b[33mWARN: Initializing environment in old step API which returns one bool instead of two. It is recommended to set `new_step_api=True` to use new step API. This will be the default behaviour in future.\u001b[0m\n",
            "  deprecation(\n"
          ]
        }
      ]
    },
    {
      "cell_type": "code",
      "source": [
        "seed = 42\n",
        "tf.random.set_seed(seed)\n",
        "np.random.seed(seed)\n",
        "\n",
        "eps = np.finfo(np.float32).eps.item()  # for numerical stability"
      ],
      "metadata": {
        "id": "Gl-39b-1bnY8"
      },
      "execution_count": 10,
      "outputs": []
    },
    {
      "cell_type": "code",
      "source": [
        "class ActorCritic(tf.keras.Model):\n",
        "  def __init__(self, num_actions: int, num_hidden_units: int):\n",
        "    super().__init__()\n",
        "\n",
        "    self.common = layers.Dense(num_hidden_units, activation='relu')\n",
        "    self.actor = layers.Dense(num_actions)  # output n action probabilities\n",
        "    self.critic = layers.Dense(1)  # output 1 Value\n",
        "\n",
        "  def call(self, inputs: tf.Tensor) -> Tuple[tf.Tensor, tf.Tensor]:\n",
        "    x = self.common(inputs)\n",
        "    return self.actor(x), self.critic(x)"
      ],
      "metadata": {
        "colab": {
          "base_uri": "https://localhost:8080/"
        },
        "id": "G6ayFB-KbvkI",
        "outputId": "b98f1fe7-baec-4eb3-f7c7-5049dd29d8c0"
      },
      "execution_count": 12,
      "outputs": [
        {
          "output_type": "stream",
          "name": "stderr",
          "text": [
            "/usr/local/lib/python3.10/dist-packages/ipykernel/ipkernel.py:283: DeprecationWarning: `should_run_async` will not call `transform_cell` automatically in the future. Please pass the result to `transformed_cell` argument and any exception that happen during thetransform in `preprocessing_exc_tuple` in IPython 7.17 and above.\n",
            "  and should_run_async(code)\n"
          ]
        }
      ]
    },
    {
      "cell_type": "code",
      "source": [
        "num_actions = env.action_space.n  # move left or move right\n",
        "num_hidden_units = 128\n",
        "\n",
        "model = ActorCritic(num_actions, num_hidden_units)"
      ],
      "metadata": {
        "colab": {
          "base_uri": "https://localhost:8080/"
        },
        "id": "Qt-WUWsHcY6d",
        "outputId": "73d9e94c-6351-4be5-d138-6462a180c576"
      },
      "execution_count": 13,
      "outputs": [
        {
          "output_type": "stream",
          "name": "stderr",
          "text": [
            "/usr/local/lib/python3.10/dist-packages/ipykernel/ipkernel.py:283: DeprecationWarning: `should_run_async` will not call `transform_cell` automatically in the future. Please pass the result to `transformed_cell` argument and any exception that happen during thetransform in `preprocessing_exc_tuple` in IPython 7.17 and above.\n",
            "  and should_run_async(code)\n"
          ]
        }
      ]
    },
    {
      "cell_type": "code",
      "source": [
        "# wrap env.step with TF function so it can be included in TF graph\n",
        "@tf.numpy_function(Tout=[tf.float32, tf.int32, tf.int32])\n",
        "def env_step(action: np.ndarray) -> Tuple[np.ndarray, np.ndarray, np.ndarray]:\n",
        "  state, reward, done, info = env.step(action)\n",
        "  return (\n",
        "      state.astype(np.float32),\n",
        "      np.array(reward, np.int32),\n",
        "      np.array(done, np.int32)\n",
        "          )\n",
        "\n",
        "def run_episode(\n",
        "    initial_state: tf.Tensor,\n",
        "    model: tf.keras.Model,\n",
        "    max_steps: int\n",
        ") -> Tuple[tf.Tensor, tf.Tensor, tf.Tensor]:\n",
        "  # use TensorArray for iteration on variable length arrays\n",
        "  action_probs = tf.TensorArray(dtype=tf.float32, size=0, dynamic_size=True)\n",
        "  values = tf.TensorArray(dtype=tf.float32, size=0, dynamic_size=True)\n",
        "  rewards = tf.TensorArray(dtype=tf.int32, size=0, dynamic_size=True)\n",
        "\n",
        "  initial_state_shape = initial_state.shape\n",
        "  state = initial_state\n",
        "\n",
        "  for t in tf.range(max_steps):\n",
        "    state = tf.expand_dims(state, 0)  # turn into a batched tensor\n",
        "\n",
        "    action_logits_t, value = model(state)\n",
        "\n",
        "    # sample next action from action probability dst\n",
        "    action = tf.random.categorical(action_logits_t, 1)[0, 0]\n",
        "    action_probs_t = tf.nn.softmax(action_logits_t)\n",
        "\n",
        "    # store critic value & log prob of chosen action\n",
        "    values = values.write(t, tf.squeeze(value))\n",
        "    action_probs = action_probs.write(t, action_probs_t[0, action])\n",
        "\n",
        "    state, reward, done = env_step(action)\n",
        "    state.set_shape(initial_state_shape)\n",
        "\n",
        "    rewards = rewards.write(t, reward)\n",
        "\n",
        "    if tf.cast(done, tf.bool): break\n",
        "\n",
        "  action_probs = action_probs.stack()\n",
        "  values = values.stack()\n",
        "  rewards = rewards.stack()\n",
        "\n",
        "  return action_probs, values, rewards"
      ],
      "metadata": {
        "id": "etfalrptcfyK"
      },
      "execution_count": 51,
      "outputs": []
    },
    {
      "cell_type": "code",
      "source": [
        "def get_expected_return(rewards: tf.Tensor, gamma: float, standardize: bool = True) -> tf.Tensor:\n",
        "  n = tf.shape(rewards)[0]\n",
        "  returns = tf.TensorArray(dtype=tf.float32, size=n)\n",
        "\n",
        "  rewards = tf.cast(rewards[::-1], dtype=tf.float32)\n",
        "  discounted_sum = tf.constant(0.0)\n",
        "  discounted_sum_shape = discounted_sum.shape\n",
        "\n",
        "  for i in tf.range(n):  # for each time step\n",
        "    reward = rewards[i]  # get prev reward (rewards is reversed above)\n",
        "\n",
        "    discounted_sum = reward + gamma * discounted_sum\n",
        "    discounted_sum.set_shape(discounted_sum_shape)\n",
        "\n",
        "    returns = returns.write(i, discounted_sum)\n",
        "\n",
        "  returns = returns.stack()[::-1]  # reverse it again\n",
        "\n",
        "  if standardize:  # stabilize training by standardizing returns\n",
        "    returns = (returns - tf.math.reduce_mean(returns)) / (tf.math.reduce_std(returns) + eps)\n",
        "\n",
        "  return returns"
      ],
      "metadata": {
        "id": "D3jRtWgbeLHx"
      },
      "execution_count": 52,
      "outputs": []
    },
    {
      "cell_type": "markdown",
      "source": [
        "Actor loss\n",
        "<br> -ve sum over all time steps (log(policy) * advantage)\n",
        "<br> advantage = G - V\n",
        " - policy = actor\n",
        " - V = critic\n",
        " - \"Advantage\"\n",
        "   - how much better an action is over a random action\n",
        "   - V is baseline critic, reduces variance in training\n",
        "   - if 2 actions give same G, V can decide there's no Advantage (G-V = 0) and no benefit in increasing probabilities of the actions\n",
        "   - V is also our critic, trained to be close to expected return G\n",
        "\n",
        "<br><br>\n",
        "Critic loss <br>\n",
        "want V to be close to G, can use Huber loss like in regression <br>\n",
        " - Huber loss is less sensitive to outliers than MSE"
      ],
      "metadata": {
        "id": "cNplhwBzgiHp"
      }
    },
    {
      "cell_type": "code",
      "source": [
        "huber_loss = tf.keras.losses.Huber(reduction=tf.keras.losses.Reduction.SUM)\n",
        "\n",
        "def compute_loss(\n",
        "    action_probs: tf.Tensor,\n",
        "    values: tf.Tensor,\n",
        "    returns: tf.Tensor\n",
        ") -> tf.Tensor:\n",
        "  advantage = returns - values\n",
        "\n",
        "  action_log_probs = tf.math.log(action_probs)\n",
        "  actor_loss = -tf.math.reduce_sum(action_log_probs * advantage)\n",
        "\n",
        "  critic_loss = huber_loss(values, returns)\n",
        "\n",
        "  return actor_loss + critic_loss"
      ],
      "metadata": {
        "id": "i3qFMG_6fmsB"
      },
      "execution_count": 53,
      "outputs": []
    },
    {
      "cell_type": "code",
      "source": [
        "opt = tf.keras.optimizers.Adam(learning_rate=0.01)\n",
        "\n",
        "@tf.function  # for speedup\n",
        "def train_step(\n",
        "    initial_state: tf.Tensor,\n",
        "    model: tf.keras.Model,\n",
        "    opt: tf.keras.optimizers.Optimizer,\n",
        "    gamma: float,\n",
        "    max_steps_per_ep: int\n",
        ") -> tf.Tensor:\n",
        "  with tf.GradientTape() as tape:\n",
        "    # gives our training data\n",
        "    action_probs, values, rewards = run_episode(initial_state, model, max_steps_per_ep)\n",
        "    returns = get_expected_return(rewards, gamma)\n",
        "\n",
        "    # reshape\n",
        "    action_probs, values, returns = [\n",
        "        tf.expand_dims(x, 1) for x in [action_probs, values, returns]\n",
        "    ]\n",
        "\n",
        "    loss = compute_loss(action_probs, values, returns)\n",
        "\n",
        "  grads = tape.gradient(loss, model.trainable_variables)\n",
        "  opt.apply_gradients(zip(grads, model.trainable_variables))\n",
        "\n",
        "  ep_reward = tf.math.reduce_sum(rewards)\n",
        "\n",
        "  return ep_reward"
      ],
      "metadata": {
        "id": "NKweEsQZisIW"
      },
      "execution_count": 54,
      "outputs": []
    },
    {
      "cell_type": "code",
      "source": [
        "# %%time\n",
        "\n",
        "min_eps_criterion = 100\n",
        "max_eps = 10_000\n",
        "max_steps_per_ep = 500\n",
        "\n",
        "reward_thresh = 475  # when do we consider CartPole as solved (reward >= thresh)\n",
        "running_reward = 0  # for efficiency\n",
        "\n",
        "gamma = 0.99\n",
        "\n",
        "eps_reward: collections.deque = collections.deque(maxlen=min_eps_criterion)\n",
        "\n",
        "t = tqdm.trange(max_eps)\n",
        "for i in t:\n",
        "  initial_state = env.reset()\n",
        "\n",
        "  initial_state = tf.constant(initial_state, dtype=tf.float32)\n",
        "\n",
        "  ep_reward = int(train_step(\n",
        "      initial_state, model, opt, gamma, max_steps_per_ep\n",
        "  ))\n",
        "\n",
        "  eps_reward.append(ep_reward)\n",
        "  running_reward = statistics.mean(eps_reward)\n",
        "\n",
        "  t.set_postfix(ep_reward=ep_reward, running_reward=running_reward)\n",
        "\n",
        "  if i % 10 == 0: print(f\"\\nEp {i}, avg reward: {running_reward:.2f}\")\n",
        "\n",
        "  if running_reward > reward_thresh and i >= min_eps_criterion: break\n",
        "\n",
        "print(f\"\\nSolved at ep {i}, avg reward: {running_reward:.2f}\")"
      ],
      "metadata": {
        "colab": {
          "base_uri": "https://localhost:8080/"
        },
        "id": "BNmdPM6KjgO0",
        "outputId": "00ea3a37-1ff0-4eab-f100-8d97ce4ddf1d"
      },
      "execution_count": 55,
      "outputs": [
        {
          "output_type": "stream",
          "name": "stderr",
          "text": [
            "  0%|          | 8/10000 [00:02<34:43,  4.80it/s, ep_reward=10, running_reward=21.4]"
          ]
        },
        {
          "output_type": "stream",
          "name": "stdout",
          "text": [
            "Ep 0, avg reward: 33.00\n",
            "Ep 10, avg reward: 22.45\n"
          ]
        },
        {
          "output_type": "stream",
          "name": "stderr",
          "text": [
            "  0%|          | 29/10000 [00:02<07:20, 22.64it/s, ep_reward=26, running_reward=23.1]"
          ]
        },
        {
          "output_type": "stream",
          "name": "stdout",
          "text": [
            "Ep 20, avg reward: 26.05\n",
            "Ep 30, avg reward: 23.06\n"
          ]
        },
        {
          "output_type": "stream",
          "name": "stderr",
          "text": [
            "  0%|          | 46/10000 [00:03<04:35, 36.11it/s, ep_reward=26, running_reward=22.9]"
          ]
        },
        {
          "output_type": "stream",
          "name": "stdout",
          "text": [
            "Ep 40, avg reward: 22.49\n"
          ]
        },
        {
          "output_type": "stream",
          "name": "stderr",
          "text": [
            "  1%|          | 55/10000 [00:03<05:31, 29.95it/s, ep_reward=25, running_reward=25.7]"
          ]
        },
        {
          "output_type": "stream",
          "name": "stdout",
          "text": [
            "Ep 50, avg reward: 25.04\n"
          ]
        },
        {
          "output_type": "stream",
          "name": "stderr",
          "text": [
            "  1%|          | 69/10000 [00:03<04:16, 38.74it/s, ep_reward=19, running_reward=25.9]"
          ]
        },
        {
          "output_type": "stream",
          "name": "stdout",
          "text": [
            "Ep 60, avg reward: 26.33\n",
            "Ep 70, avg reward: 25.89\n"
          ]
        },
        {
          "output_type": "stream",
          "name": "stderr",
          "text": [
            "  1%|          | 85/10000 [00:04<03:42, 44.63it/s, ep_reward=49, running_reward=26.4]"
          ]
        },
        {
          "output_type": "stream",
          "name": "stdout",
          "text": [
            "Ep 80, avg reward: 26.15\n"
          ]
        },
        {
          "output_type": "stream",
          "name": "stderr",
          "text": [
            "  1%|          | 95/10000 [00:04<03:59, 41.44it/s, ep_reward=30, running_reward=26.3]"
          ]
        },
        {
          "output_type": "stream",
          "name": "stdout",
          "text": [
            "Ep 90, avg reward: 26.29\n"
          ]
        },
        {
          "output_type": "stream",
          "name": "stderr",
          "text": [
            "  1%|          | 105/10000 [00:04<04:18, 38.33it/s, ep_reward=35, running_reward=28.2]"
          ]
        },
        {
          "output_type": "stream",
          "name": "stdout",
          "text": [
            "Ep 100, avg reward: 26.91\n"
          ]
        },
        {
          "output_type": "stream",
          "name": "stderr",
          "text": [
            "  1%|          | 114/10000 [00:04<04:42, 34.99it/s, ep_reward=50, running_reward=29.6]"
          ]
        },
        {
          "output_type": "stream",
          "name": "stdout",
          "text": [
            "Ep 110, avg reward: 28.79\n"
          ]
        },
        {
          "output_type": "stream",
          "name": "stderr",
          "text": [
            "  1%|▏         | 126/10000 [00:05<05:31, 29.79it/s, ep_reward=25, running_reward=32.3]"
          ]
        },
        {
          "output_type": "stream",
          "name": "stdout",
          "text": [
            "Ep 120, avg reward: 30.90\n"
          ]
        },
        {
          "output_type": "stream",
          "name": "stderr",
          "text": [
            "  1%|▏         | 134/10000 [00:05<05:43, 28.72it/s, ep_reward=79, running_reward=35.4]"
          ]
        },
        {
          "output_type": "stream",
          "name": "stdout",
          "text": [
            "Ep 130, avg reward: 33.90\n"
          ]
        },
        {
          "output_type": "stream",
          "name": "stderr",
          "text": [
            "  1%|▏         | 145/10000 [00:06<05:35, 29.37it/s, ep_reward=33, running_reward=37]  "
          ]
        },
        {
          "output_type": "stream",
          "name": "stdout",
          "text": [
            "Ep 140, avg reward: 36.38\n"
          ]
        },
        {
          "output_type": "stream",
          "name": "stderr",
          "text": [
            "  2%|▏         | 157/10000 [00:06<04:59, 32.92it/s, ep_reward=36, running_reward=36.3]"
          ]
        },
        {
          "output_type": "stream",
          "name": "stdout",
          "text": [
            "Ep 150, avg reward: 36.26\n"
          ]
        },
        {
          "output_type": "stream",
          "name": "stderr",
          "text": [
            "  2%|▏         | 165/10000 [00:06<04:57, 33.09it/s, ep_reward=45, running_reward=37.9]"
          ]
        },
        {
          "output_type": "stream",
          "name": "stdout",
          "text": [
            "Ep 160, avg reward: 36.53\n"
          ]
        },
        {
          "output_type": "stream",
          "name": "stderr",
          "text": [
            "  2%|▏         | 174/10000 [00:06<04:34, 35.78it/s, ep_reward=64, running_reward=40.1]"
          ]
        },
        {
          "output_type": "stream",
          "name": "stdout",
          "text": [
            "Ep 170, avg reward: 38.45\n"
          ]
        },
        {
          "output_type": "stream",
          "name": "stderr",
          "text": [
            "  2%|▏         | 182/10000 [00:07<05:40, 28.84it/s, ep_reward=47, running_reward=44.4] "
          ]
        },
        {
          "output_type": "stream",
          "name": "stdout",
          "text": [
            "Ep 180, avg reward: 42.62\n"
          ]
        },
        {
          "output_type": "stream",
          "name": "stderr",
          "text": [
            "  2%|▏         | 195/10000 [00:07<06:44, 24.25it/s, ep_reward=60, running_reward=50.2]"
          ]
        },
        {
          "output_type": "stream",
          "name": "stdout",
          "text": [
            "Ep 190, avg reward: 47.30\n"
          ]
        },
        {
          "output_type": "stream",
          "name": "stderr",
          "text": [
            "  2%|▏         | 205/10000 [00:08<06:44, 24.22it/s, ep_reward=77, running_reward=53.9]"
          ]
        },
        {
          "output_type": "stream",
          "name": "stdout",
          "text": [
            "Ep 200, avg reward: 52.13\n"
          ]
        },
        {
          "output_type": "stream",
          "name": "stderr",
          "text": [
            "  2%|▏         | 214/10000 [00:08<07:43, 21.13it/s, ep_reward=161, running_reward=59.9]"
          ]
        },
        {
          "output_type": "stream",
          "name": "stdout",
          "text": [
            "Ep 210, avg reward: 56.67\n"
          ]
        },
        {
          "output_type": "stream",
          "name": "stderr",
          "text": [
            "  2%|▏         | 224/10000 [00:09<09:17, 17.54it/s, ep_reward=84, running_reward=69.5]"
          ]
        },
        {
          "output_type": "stream",
          "name": "stdout",
          "text": [
            "Ep 220, avg reward: 66.96\n"
          ]
        },
        {
          "output_type": "stream",
          "name": "stderr",
          "text": [
            "  2%|▏         | 235/10000 [00:09<07:56, 20.50it/s, ep_reward=91, running_reward=75.1]"
          ]
        },
        {
          "output_type": "stream",
          "name": "stdout",
          "text": [
            "Ep 230, avg reward: 72.53\n"
          ]
        },
        {
          "output_type": "stream",
          "name": "stderr",
          "text": [
            "  2%|▏         | 244/10000 [00:10<07:42, 21.09it/s, ep_reward=78, running_reward=78.5]"
          ]
        },
        {
          "output_type": "stream",
          "name": "stdout",
          "text": [
            "Ep 240, avg reward: 76.85\n"
          ]
        },
        {
          "output_type": "stream",
          "name": "stderr",
          "text": [
            "  3%|▎         | 253/10000 [00:10<07:56, 20.47it/s, ep_reward=89, running_reward=86.6]"
          ]
        },
        {
          "output_type": "stream",
          "name": "stdout",
          "text": [
            "Ep 250, avg reward: 83.91\n"
          ]
        },
        {
          "output_type": "stream",
          "name": "stderr",
          "text": [
            "  3%|▎         | 263/10000 [00:11<09:49, 16.51it/s, ep_reward=17, running_reward=95.2] "
          ]
        },
        {
          "output_type": "stream",
          "name": "stdout",
          "text": [
            "Ep 260, avg reward: 93.10\n"
          ]
        },
        {
          "output_type": "stream",
          "name": "stderr",
          "text": [
            "  3%|▎         | 272/10000 [00:11<08:01, 20.21it/s, ep_reward=79, running_reward=98.4]"
          ]
        },
        {
          "output_type": "stream",
          "name": "stdout",
          "text": [
            "Ep 270, avg reward: 97.08\n"
          ]
        },
        {
          "output_type": "stream",
          "name": "stderr",
          "text": [
            "  3%|▎         | 285/10000 [00:12<07:11, 22.52it/s, ep_reward=103, running_reward=100]"
          ]
        },
        {
          "output_type": "stream",
          "name": "stdout",
          "text": [
            "Ep 280, avg reward: 101.27\n"
          ]
        },
        {
          "output_type": "stream",
          "name": "stderr",
          "text": [
            "  3%|▎         | 291/10000 [00:12<08:21, 19.35it/s, ep_reward=131, running_reward=104]"
          ]
        },
        {
          "output_type": "stream",
          "name": "stdout",
          "text": [
            "Ep 290, avg reward: 103.15\n"
          ]
        },
        {
          "output_type": "stream",
          "name": "stderr",
          "text": [
            "  3%|▎         | 302/10000 [00:13<14:47, 10.93it/s, ep_reward=350, running_reward=115]"
          ]
        },
        {
          "output_type": "stream",
          "name": "stdout",
          "text": [
            "Ep 300, avg reward: 112.32\n"
          ]
        },
        {
          "output_type": "stream",
          "name": "stderr",
          "text": [
            "  3%|▎         | 312/10000 [00:15<25:05,  6.44it/s, ep_reward=219, running_reward=148]"
          ]
        },
        {
          "output_type": "stream",
          "name": "stdout",
          "text": [
            "Ep 310, avg reward: 147.24\n"
          ]
        },
        {
          "output_type": "stream",
          "name": "stderr",
          "text": [
            "  3%|▎         | 323/10000 [00:16<09:46, 16.49it/s, ep_reward=114, running_reward=147]"
          ]
        },
        {
          "output_type": "stream",
          "name": "stdout",
          "text": [
            "Ep 320, avg reward: 147.20\n"
          ]
        },
        {
          "output_type": "stream",
          "name": "stderr",
          "text": [
            "  3%|▎         | 333/10000 [00:16<09:37, 16.74it/s, ep_reward=143, running_reward=148]"
          ]
        },
        {
          "output_type": "stream",
          "name": "stdout",
          "text": [
            "Ep 330, avg reward: 147.38\n"
          ]
        },
        {
          "output_type": "stream",
          "name": "stderr",
          "text": [
            "  3%|▎         | 341/10000 [00:17<15:11, 10.60it/s, ep_reward=189, running_reward=156]"
          ]
        },
        {
          "output_type": "stream",
          "name": "stdout",
          "text": [
            "Ep 340, avg reward: 155.35\n"
          ]
        },
        {
          "output_type": "stream",
          "name": "stderr",
          "text": [
            "  4%|▎         | 352/10000 [00:19<29:48,  5.40it/s, ep_reward=299, running_reward=181]"
          ]
        },
        {
          "output_type": "stream",
          "name": "stdout",
          "text": [
            "Ep 350, avg reward: 179.37\n"
          ]
        },
        {
          "output_type": "stream",
          "name": "stderr",
          "text": [
            "  4%|▎         | 361/10000 [00:21<34:01,  4.72it/s, ep_reward=500, running_reward=212]"
          ]
        },
        {
          "output_type": "stream",
          "name": "stdout",
          "text": [
            "Ep 360, avg reward: 211.74\n"
          ]
        },
        {
          "output_type": "stream",
          "name": "stderr",
          "text": [
            "  4%|▎         | 373/10000 [00:23<16:50,  9.53it/s, ep_reward=192, running_reward=241]"
          ]
        },
        {
          "output_type": "stream",
          "name": "stdout",
          "text": [
            "Ep 370, avg reward: 240.04\n"
          ]
        },
        {
          "output_type": "stream",
          "name": "stderr",
          "text": [
            "  4%|▍         | 381/10000 [00:24<13:00, 12.32it/s, ep_reward=300, running_reward=248]"
          ]
        },
        {
          "output_type": "stream",
          "name": "stdout",
          "text": [
            "Ep 380, avg reward: 244.74\n"
          ]
        },
        {
          "output_type": "stream",
          "name": "stderr",
          "text": [
            "  4%|▍         | 393/10000 [00:25<14:09, 11.31it/s, ep_reward=236, running_reward=256]"
          ]
        },
        {
          "output_type": "stream",
          "name": "stdout",
          "text": [
            "Ep 390, avg reward: 255.12\n"
          ]
        },
        {
          "output_type": "stream",
          "name": "stderr",
          "text": [
            "  4%|▍         | 401/10000 [00:26<14:14, 11.23it/s, ep_reward=246, running_reward=258]"
          ]
        },
        {
          "output_type": "stream",
          "name": "stdout",
          "text": [
            "Ep 400, avg reward: 259.21\n"
          ]
        },
        {
          "output_type": "stream",
          "name": "stderr",
          "text": [
            "  4%|▍         | 411/10000 [00:27<25:38,  6.23it/s, ep_reward=500, running_reward=252]"
          ]
        },
        {
          "output_type": "stream",
          "name": "stdout",
          "text": [
            "Ep 410, avg reward: 251.74\n"
          ]
        },
        {
          "output_type": "stream",
          "name": "stderr",
          "text": [
            "  4%|▍         | 422/10000 [00:29<31:04,  5.14it/s, ep_reward=104, running_reward=280]"
          ]
        },
        {
          "output_type": "stream",
          "name": "stdout",
          "text": [
            "Ep 420, avg reward: 278.82\n"
          ]
        },
        {
          "output_type": "stream",
          "name": "stderr",
          "text": [
            "  4%|▍         | 431/10000 [00:33<1:33:23,  1.71it/s, ep_reward=500, running_reward=304]"
          ]
        },
        {
          "output_type": "stream",
          "name": "stdout",
          "text": [
            "Ep 430, avg reward: 304.06\n"
          ]
        },
        {
          "output_type": "stream",
          "name": "stderr",
          "text": [
            "  4%|▍         | 442/10000 [00:37<39:10,  4.07it/s, ep_reward=420, running_reward=336]"
          ]
        },
        {
          "output_type": "stream",
          "name": "stdout",
          "text": [
            "Ep 440, avg reward: 333.89\n"
          ]
        },
        {
          "output_type": "stream",
          "name": "stderr",
          "text": [
            "  5%|▍         | 451/10000 [00:39<33:04,  4.81it/s, ep_reward=500, running_reward=344]"
          ]
        },
        {
          "output_type": "stream",
          "name": "stdout",
          "text": [
            "Ep 450, avg reward: 343.75\n"
          ]
        },
        {
          "output_type": "stream",
          "name": "stderr",
          "text": [
            "  5%|▍         | 461/10000 [00:41<34:09,  4.66it/s, ep_reward=500, running_reward=349]"
          ]
        },
        {
          "output_type": "stream",
          "name": "stdout",
          "text": [
            "Ep 460, avg reward: 348.63\n"
          ]
        },
        {
          "output_type": "stream",
          "name": "stderr",
          "text": [
            "  5%|▍         | 473/10000 [00:42<16:18,  9.74it/s, ep_reward=122, running_reward=336]"
          ]
        },
        {
          "output_type": "stream",
          "name": "stdout",
          "text": [
            "Ep 470, avg reward: 337.60\n"
          ]
        },
        {
          "output_type": "stream",
          "name": "stderr",
          "text": [
            "  5%|▍         | 483/10000 [00:43<09:16, 17.11it/s, ep_reward=38, running_reward=328]"
          ]
        },
        {
          "output_type": "stream",
          "name": "stdout",
          "text": [
            "Ep 480, avg reward: 333.26\n"
          ]
        },
        {
          "output_type": "stream",
          "name": "stderr",
          "text": [
            "  5%|▍         | 496/10000 [00:43<06:30, 24.35it/s, ep_reward=104, running_reward=315]"
          ]
        },
        {
          "output_type": "stream",
          "name": "stdout",
          "text": [
            "Ep 490, avg reward: 321.46\n"
          ]
        },
        {
          "output_type": "stream",
          "name": "stderr",
          "text": [
            "  5%|▌         | 505/10000 [00:44<07:13, 21.88it/s, ep_reward=106, running_reward=299]"
          ]
        },
        {
          "output_type": "stream",
          "name": "stdout",
          "text": [
            "Ep 500, avg reward: 308.17\n"
          ]
        },
        {
          "output_type": "stream",
          "name": "stderr",
          "text": [
            "  5%|▌         | 514/10000 [00:44<08:04, 19.59it/s, ep_reward=117, running_reward=273]"
          ]
        },
        {
          "output_type": "stream",
          "name": "stdout",
          "text": [
            "Ep 510, avg reward: 281.97\n"
          ]
        },
        {
          "output_type": "stream",
          "name": "stderr",
          "text": [
            "  5%|▌         | 522/10000 [00:45<10:02, 15.73it/s, ep_reward=109, running_reward=249]"
          ]
        },
        {
          "output_type": "stream",
          "name": "stdout",
          "text": [
            "Ep 520, avg reward: 250.68\n"
          ]
        },
        {
          "output_type": "stream",
          "name": "stderr",
          "text": [
            "  5%|▌         | 534/10000 [00:45<10:54, 14.46it/s, ep_reward=119, running_reward=215]"
          ]
        },
        {
          "output_type": "stream",
          "name": "stdout",
          "text": [
            "Ep 530, avg reward: 226.43\n"
          ]
        },
        {
          "output_type": "stream",
          "name": "stderr",
          "text": [
            "  5%|▌         | 542/10000 [00:46<12:29, 12.61it/s, ep_reward=119, running_reward=187]"
          ]
        },
        {
          "output_type": "stream",
          "name": "stdout",
          "text": [
            "Ep 540, avg reward: 191.93\n"
          ]
        },
        {
          "output_type": "stream",
          "name": "stderr",
          "text": [
            "  6%|▌         | 554/10000 [00:47<11:39, 13.50it/s, ep_reward=112, running_reward=148]"
          ]
        },
        {
          "output_type": "stream",
          "name": "stdout",
          "text": [
            "Ep 550, avg reward: 159.41\n"
          ]
        },
        {
          "output_type": "stream",
          "name": "stderr",
          "text": [
            "  6%|▌         | 562/10000 [00:48<10:49, 14.52it/s, ep_reward=115, running_reward=116]"
          ]
        },
        {
          "output_type": "stream",
          "name": "stdout",
          "text": [
            "Ep 560, avg reward: 120.75\n"
          ]
        },
        {
          "output_type": "stream",
          "name": "stderr",
          "text": [
            "  6%|▌         | 574/10000 [00:48<09:29, 16.56it/s, ep_reward=106, running_reward=106]"
          ]
        },
        {
          "output_type": "stream",
          "name": "stdout",
          "text": [
            "Ep 570, avg reward: 106.85\n"
          ]
        },
        {
          "output_type": "stream",
          "name": "stderr",
          "text": [
            "  6%|▌         | 584/10000 [00:49<08:49, 17.78it/s, ep_reward=120, running_reward=108]"
          ]
        },
        {
          "output_type": "stream",
          "name": "stdout",
          "text": [
            "Ep 580, avg reward: 107.06\n"
          ]
        },
        {
          "output_type": "stream",
          "name": "stderr",
          "text": [
            "  6%|▌         | 595/10000 [00:49<08:16, 18.93it/s, ep_reward=121, running_reward=113]"
          ]
        },
        {
          "output_type": "stream",
          "name": "stdout",
          "text": [
            "Ep 590, avg reward: 111.28\n"
          ]
        },
        {
          "output_type": "stream",
          "name": "stderr",
          "text": [
            "  6%|▌         | 603/10000 [00:50<09:07, 17.16it/s, ep_reward=128, running_reward=116]"
          ]
        },
        {
          "output_type": "stream",
          "name": "stdout",
          "text": [
            "Ep 600, avg reward: 115.13\n"
          ]
        },
        {
          "output_type": "stream",
          "name": "stderr",
          "text": [
            "  6%|▌         | 613/10000 [00:51<10:40, 14.65it/s, ep_reward=140, running_reward=120]"
          ]
        },
        {
          "output_type": "stream",
          "name": "stdout",
          "text": [
            "Ep 610, avg reward: 119.51\n"
          ]
        },
        {
          "output_type": "stream",
          "name": "stderr",
          "text": [
            "  6%|▌         | 623/10000 [00:52<13:36, 11.49it/s, ep_reward=186, running_reward=131]"
          ]
        },
        {
          "output_type": "stream",
          "name": "stdout",
          "text": [
            "Ep 620, avg reward: 129.36\n"
          ]
        },
        {
          "output_type": "stream",
          "name": "stderr",
          "text": [
            "  6%|▋         | 631/10000 [00:53<27:45,  5.62it/s, ep_reward=500, running_reward=156]"
          ]
        },
        {
          "output_type": "stream",
          "name": "stdout",
          "text": [
            "Ep 630, avg reward: 156.40\n"
          ]
        },
        {
          "output_type": "stream",
          "name": "stderr",
          "text": [
            "  6%|▋         | 641/10000 [00:55<32:51,  4.75it/s, ep_reward=500, running_reward=194]"
          ]
        },
        {
          "output_type": "stream",
          "name": "stdout",
          "text": [
            "Ep 640, avg reward: 194.23\n"
          ]
        },
        {
          "output_type": "stream",
          "name": "stderr",
          "text": [
            "  7%|▋         | 651/10000 [00:57<32:48,  4.75it/s, ep_reward=500, running_reward=232]"
          ]
        },
        {
          "output_type": "stream",
          "name": "stdout",
          "text": [
            "Ep 650, avg reward: 232.38\n"
          ]
        },
        {
          "output_type": "stream",
          "name": "stderr",
          "text": [
            "  7%|▋         | 661/10000 [01:00<44:33,  3.49it/s, ep_reward=500, running_reward=271]"
          ]
        },
        {
          "output_type": "stream",
          "name": "stdout",
          "text": [
            "Ep 660, avg reward: 271.04\n"
          ]
        },
        {
          "output_type": "stream",
          "name": "stderr",
          "text": [
            "  7%|▋         | 671/10000 [01:03<35:28,  4.38it/s, ep_reward=500, running_reward=309]"
          ]
        },
        {
          "output_type": "stream",
          "name": "stdout",
          "text": [
            "Ep 670, avg reward: 309.45\n"
          ]
        },
        {
          "output_type": "stream",
          "name": "stderr",
          "text": [
            "  7%|▋         | 681/10000 [01:05<30:35,  5.08it/s, ep_reward=500, running_reward=341]"
          ]
        },
        {
          "output_type": "stream",
          "name": "stdout",
          "text": [
            "Ep 680, avg reward: 341.14\n"
          ]
        },
        {
          "output_type": "stream",
          "name": "stderr",
          "text": [
            "  7%|▋         | 691/10000 [01:07<32:49,  4.73it/s, ep_reward=500, running_reward=379]"
          ]
        },
        {
          "output_type": "stream",
          "name": "stdout",
          "text": [
            "Ep 690, avg reward: 378.69\n"
          ]
        },
        {
          "output_type": "stream",
          "name": "stderr",
          "text": [
            "  7%|▋         | 701/10000 [01:09<33:22,  4.64it/s, ep_reward=500, running_reward=417]"
          ]
        },
        {
          "output_type": "stream",
          "name": "stdout",
          "text": [
            "Ep 700, avg reward: 416.72\n"
          ]
        },
        {
          "output_type": "stream",
          "name": "stderr",
          "text": [
            "  7%|▋         | 711/10000 [01:11<33:27,  4.63it/s, ep_reward=500, running_reward=453]"
          ]
        },
        {
          "output_type": "stream",
          "name": "stdout",
          "text": [
            "Ep 710, avg reward: 452.53\n"
          ]
        },
        {
          "output_type": "stream",
          "name": "stderr",
          "text": [
            "  7%|▋         | 719/10000 [01:14<15:56,  9.71it/s, ep_reward=500, running_reward=478]"
          ]
        },
        {
          "output_type": "stream",
          "name": "stdout",
          "text": [
            "Solved at ep 719, avg reward: 478.01\n"
          ]
        },
        {
          "output_type": "stream",
          "name": "stderr",
          "text": [
            "\n"
          ]
        }
      ]
    },
    {
      "cell_type": "code",
      "source": [
        "# visualize an episode\n",
        "\n",
        "from IPython import display as ipythondisplay\n",
        "from PIL import Image\n",
        "\n",
        "render_env = gym.make('CartPole-v1', render_mode='rgb_array')\n",
        "\n",
        "def render_ep(env: gym.Env, model: tf.keras.Model, max_steps: int):\n",
        "  state = env.reset()\n",
        "  state = tf.constant(state, dtype=tf.float32)\n",
        "\n",
        "  screen = env.render()\n",
        "  screen = np.asarray(screen)[0]\n",
        "  imgs = [Image.fromarray(screen)]\n",
        "\n",
        "  for i in range(1, max_steps+1):\n",
        "    state = tf.expand_dims(state, 0)\n",
        "\n",
        "    action_probs, _ = model(state)\n",
        "    action = np.argmax(np.squeeze(action_probs))\n",
        "\n",
        "    state, reward, done, info = env.step(action)\n",
        "    state = tf.constant(state, dtype=tf.float32)\n",
        "\n",
        "    if i % 10 == 0:\n",
        "      screen = env.render()\n",
        "      screen = np.asarray(screen)[0]\n",
        "      imgs.append(Image.fromarray(screen))\n",
        "\n",
        "    if done: break\n",
        "\n",
        "  return imgs\n",
        "\n",
        "imgs = render_ep(render_env, model, max_steps_per_ep)\n",
        "img_file = 'cartpole-v1.gif'\n",
        "# loop forever, play each frame for 1ms duration\n",
        "imgs[0].save(img_file, save_all=True, append_images=imgs[1:], loop=0, duration=1)"
      ],
      "metadata": {
        "colab": {
          "base_uri": "https://localhost:8080/"
        },
        "id": "gWFn3q9qkmBa",
        "outputId": "078e0ed2-e69b-4068-90e0-856ee96235b4"
      },
      "execution_count": 67,
      "outputs": [
        {
          "output_type": "stream",
          "name": "stderr",
          "text": [
            "/usr/local/lib/python3.10/dist-packages/ipykernel/ipkernel.py:283: DeprecationWarning: `should_run_async` will not call `transform_cell` automatically in the future. Please pass the result to `transformed_cell` argument and any exception that happen during thetransform in `preprocessing_exc_tuple` in IPython 7.17 and above.\n",
            "  and should_run_async(code)\n",
            "/usr/local/lib/python3.10/dist-packages/gym/core.py:317: DeprecationWarning: \u001b[33mWARN: Initializing wrapper in old step API which returns one bool instead of two. It is recommended to set `new_step_api=True` to use new step API. This will be the default behaviour in future.\u001b[0m\n",
            "  deprecation(\n",
            "/usr/local/lib/python3.10/dist-packages/gym/wrappers/step_api_compatibility.py:39: DeprecationWarning: \u001b[33mWARN: Initializing environment in old step API which returns one bool instead of two. It is recommended to set `new_step_api=True` to use new step API. This will be the default behaviour in future.\u001b[0m\n",
            "  deprecation(\n",
            "/usr/local/lib/python3.10/dist-packages/gym/utils/passive_env_checker.py:241: DeprecationWarning: `np.bool8` is a deprecated alias for `np.bool_`.  (Deprecated NumPy 1.24)\n",
            "  if not isinstance(terminated, (bool, np.bool8)):\n"
          ]
        }
      ]
    },
    {
      "cell_type": "code",
      "source": [
        "import tensorflow_docs.vis.embed as embed\n",
        "\n",
        "embed.embed_file(img_file)"
      ],
      "metadata": {
        "colab": {
          "base_uri": "https://localhost:8080/",
          "height": 422
        },
        "id": "RzB36r2dqGmf",
        "outputId": "316bb3d2-33db-4b8d-d509-88a8a8b00788"
      },
      "execution_count": 68,
      "outputs": [
        {
          "output_type": "execute_result",
          "data": {
            "text/plain": [
              "<IPython.core.display.HTML object>"
            ],
            "text/html": [
              "<img src=\"data:image/gif;base64,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\"/>"
            ]
          },
          "metadata": {},
          "execution_count": 68
        }
      ]
    }
  ]
}